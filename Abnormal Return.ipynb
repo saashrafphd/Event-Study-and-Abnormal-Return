{
 "cells": [
  {
   "cell_type": "code",
   "execution_count": 5,
   "metadata": {
    "pycharm": {
     "name": "#%%\n"
    }
   },
   "outputs": [],
   "source": [
    "\n",
    "import pandas as pd\n",
    "from datetime import datetime\n",
    "from pandas.tseries.offsets import BDay\n",
    "import numpy as np\n",
    "from sklearn.linear_model import LinearRegression\n",
    "import random\n",
    "import string\n",
    "import warnings\n",
    "warnings.filterwarnings(\"ignore\")"
   ]
  },
  {
   "cell_type": "code",
   "execution_count": 7,
   "outputs": [
    {
     "name": "stdout",
     "output_type": "stream",
     "text": [
      "Collecting openpyxl\n",
      "  Downloading openpyxl-3.0.9-py2.py3-none-any.whl (242 kB)\n",
      "Collecting et-xmlfile\n",
      "  Downloading et_xmlfile-1.1.0-py3-none-any.whl (4.7 kB)\n",
      "Installing collected packages: et-xmlfile, openpyxl\n",
      "Successfully installed et-xmlfile-1.1.0 openpyxl-3.0.9\n"
     ]
    },
    {
     "name": "stderr",
     "output_type": "stream",
     "text": [
      "WARNING: You are using pip version 21.2.4; however, version 22.1 is available.\n",
      "You should consider upgrading via the 'C:\\Users\\Syed Abdullah Ashraf\\AppData\\Local\\Programs\\Python\\Python39\\python.exe -m pip install --upgrade pip' command.\n"
     ]
    }
   ],
   "source": [
    "!pip install openpyxl"
   ],
   "metadata": {
    "collapsed": false,
    "pycharm": {
     "name": "#%%\n"
    }
   }
  },
  {
   "cell_type": "code",
   "execution_count": 8,
   "metadata": {
    "pycharm": {
     "name": "#%%\n"
    }
   },
   "outputs": [
    {
     "data": {
      "text/plain": "       Stock_Dates             NSE Code  Stock_Price Date of Announcement  \\\n0       2019-01-01      20 Microns Ltd.        44.25           2020-03-23   \n1       2019-01-02      20 Microns Ltd.        44.05           2020-03-23   \n2       2019-01-03      20 Microns Ltd.        43.45           2020-03-23   \n3       2019-01-04      20 Microns Ltd.        42.25           2020-03-23   \n4       2019-01-07      20 Microns Ltd.        42.65           2020-03-23   \n...            ...                  ...          ...                  ...   \n667963  2020-12-24  Zydus Wellness Ltd.      1947.60           2020-03-23   \n667964  2020-12-28  Zydus Wellness Ltd.      1927.90           2020-03-23   \n667965  2020-12-29  Zydus Wellness Ltd.      1981.85           2020-03-23   \n667966  2020-12-30  Zydus Wellness Ltd.      1966.20           2020-03-23   \n667967  2020-12-31  Zydus Wellness Ltd.      1990.50           2020-03-23   \n\n       Market_Dates  Market_Price  \n0        2019-01-01      10910.10  \n1        2019-01-02      10792.50  \n2        2019-01-03      10672.25  \n3        2019-01-04      10727.35  \n4        2019-01-07      10771.80  \n...             ...           ...  \n667963          NaT           NaN  \n667964          NaT           NaN  \n667965          NaT           NaN  \n667966          NaT           NaN  \n667967          NaT           NaN  \n\n[667968 rows x 6 columns]",
      "text/html": "<div>\n<style scoped>\n    .dataframe tbody tr th:only-of-type {\n        vertical-align: middle;\n    }\n\n    .dataframe tbody tr th {\n        vertical-align: top;\n    }\n\n    .dataframe thead th {\n        text-align: right;\n    }\n</style>\n<table border=\"1\" class=\"dataframe\">\n  <thead>\n    <tr style=\"text-align: right;\">\n      <th></th>\n      <th>Stock_Dates</th>\n      <th>NSE Code</th>\n      <th>Stock_Price</th>\n      <th>Date of Announcement</th>\n      <th>Market_Dates</th>\n      <th>Market_Price</th>\n    </tr>\n  </thead>\n  <tbody>\n    <tr>\n      <th>0</th>\n      <td>2019-01-01</td>\n      <td>20 Microns Ltd.</td>\n      <td>44.25</td>\n      <td>2020-03-23</td>\n      <td>2019-01-01</td>\n      <td>10910.10</td>\n    </tr>\n    <tr>\n      <th>1</th>\n      <td>2019-01-02</td>\n      <td>20 Microns Ltd.</td>\n      <td>44.05</td>\n      <td>2020-03-23</td>\n      <td>2019-01-02</td>\n      <td>10792.50</td>\n    </tr>\n    <tr>\n      <th>2</th>\n      <td>2019-01-03</td>\n      <td>20 Microns Ltd.</td>\n      <td>43.45</td>\n      <td>2020-03-23</td>\n      <td>2019-01-03</td>\n      <td>10672.25</td>\n    </tr>\n    <tr>\n      <th>3</th>\n      <td>2019-01-04</td>\n      <td>20 Microns Ltd.</td>\n      <td>42.25</td>\n      <td>2020-03-23</td>\n      <td>2019-01-04</td>\n      <td>10727.35</td>\n    </tr>\n    <tr>\n      <th>4</th>\n      <td>2019-01-07</td>\n      <td>20 Microns Ltd.</td>\n      <td>42.65</td>\n      <td>2020-03-23</td>\n      <td>2019-01-07</td>\n      <td>10771.80</td>\n    </tr>\n    <tr>\n      <th>...</th>\n      <td>...</td>\n      <td>...</td>\n      <td>...</td>\n      <td>...</td>\n      <td>...</td>\n      <td>...</td>\n    </tr>\n    <tr>\n      <th>667963</th>\n      <td>2020-12-24</td>\n      <td>Zydus Wellness Ltd.</td>\n      <td>1947.60</td>\n      <td>2020-03-23</td>\n      <td>NaT</td>\n      <td>NaN</td>\n    </tr>\n    <tr>\n      <th>667964</th>\n      <td>2020-12-28</td>\n      <td>Zydus Wellness Ltd.</td>\n      <td>1927.90</td>\n      <td>2020-03-23</td>\n      <td>NaT</td>\n      <td>NaN</td>\n    </tr>\n    <tr>\n      <th>667965</th>\n      <td>2020-12-29</td>\n      <td>Zydus Wellness Ltd.</td>\n      <td>1981.85</td>\n      <td>2020-03-23</td>\n      <td>NaT</td>\n      <td>NaN</td>\n    </tr>\n    <tr>\n      <th>667966</th>\n      <td>2020-12-30</td>\n      <td>Zydus Wellness Ltd.</td>\n      <td>1966.20</td>\n      <td>2020-03-23</td>\n      <td>NaT</td>\n      <td>NaN</td>\n    </tr>\n    <tr>\n      <th>667967</th>\n      <td>2020-12-31</td>\n      <td>Zydus Wellness Ltd.</td>\n      <td>1990.50</td>\n      <td>2020-03-23</td>\n      <td>NaT</td>\n      <td>NaN</td>\n    </tr>\n  </tbody>\n</table>\n<p>667968 rows × 6 columns</p>\n</div>"
     },
     "execution_count": 8,
     "metadata": {},
     "output_type": "execute_result"
    }
   ],
   "source": [
    "# This code requires an input file with columns: Stock_Dates, NSE Code, Stock_Price, Date of Announcement, Market_Dates, and \n",
    "# Market_Price\n",
    "\n",
    "# if your datafile has companies with multiple announcement date, change their name to make sure each of \n",
    "# those instances are distinct such as 3info, 3info1, 3info2, and so on\n",
    "df = pd.read_excel(\"file_2C.xlsx\")\n",
    "df"
   ]
  },
  {
   "cell_type": "code",
   "execution_count": 9,
   "metadata": {
    "pycharm": {
     "name": "#%%\n"
    }
   },
   "outputs": [
    {
     "data": {
      "text/plain": "       Stock_Dates             NSE Code  Stock_Price Date of Announcement  \\\n0       2019-01-01      20 Microns Ltd.        44.25           2020-03-23   \n1       2019-01-02      20 Microns Ltd.        44.05           2020-03-23   \n2       2019-01-03      20 Microns Ltd.        43.45           2020-03-23   \n3       2019-01-04      20 Microns Ltd.        42.25           2020-03-23   \n4       2019-01-07      20 Microns Ltd.        42.65           2020-03-23   \n...            ...                  ...          ...                  ...   \n667963  2020-12-24  Zydus Wellness Ltd.      1947.60           2020-03-23   \n667964  2020-12-28  Zydus Wellness Ltd.      1927.90           2020-03-23   \n667965  2020-12-29  Zydus Wellness Ltd.      1981.85           2020-03-23   \n667966  2020-12-30  Zydus Wellness Ltd.      1966.20           2020-03-23   \n667967  2020-12-31  Zydus Wellness Ltd.      1990.50           2020-03-23   \n\n       Market_Dates  Market_Price  stock_return  market_return  \n0        2019-01-01      10910.10           NaN            NaN  \n1        2019-01-02      10792.50     -0.004530      -0.010838  \n2        2019-01-03      10672.25     -0.013715      -0.011205  \n3        2019-01-04      10727.35     -0.028006       0.005150  \n4        2019-01-07      10771.80      0.009423       0.004135  \n...             ...           ...           ...            ...  \n667963          NaT           NaN      0.022247            NaN  \n667964          NaT           NaN     -0.010167            NaN  \n667965          NaT           NaN      0.027599            NaN  \n667966          NaT           NaN     -0.007928            NaN  \n667967          NaT           NaN      0.012283            NaN  \n\n[667968 rows x 8 columns]",
      "text/html": "<div>\n<style scoped>\n    .dataframe tbody tr th:only-of-type {\n        vertical-align: middle;\n    }\n\n    .dataframe tbody tr th {\n        vertical-align: top;\n    }\n\n    .dataframe thead th {\n        text-align: right;\n    }\n</style>\n<table border=\"1\" class=\"dataframe\">\n  <thead>\n    <tr style=\"text-align: right;\">\n      <th></th>\n      <th>Stock_Dates</th>\n      <th>NSE Code</th>\n      <th>Stock_Price</th>\n      <th>Date of Announcement</th>\n      <th>Market_Dates</th>\n      <th>Market_Price</th>\n      <th>stock_return</th>\n      <th>market_return</th>\n    </tr>\n  </thead>\n  <tbody>\n    <tr>\n      <th>0</th>\n      <td>2019-01-01</td>\n      <td>20 Microns Ltd.</td>\n      <td>44.25</td>\n      <td>2020-03-23</td>\n      <td>2019-01-01</td>\n      <td>10910.10</td>\n      <td>NaN</td>\n      <td>NaN</td>\n    </tr>\n    <tr>\n      <th>1</th>\n      <td>2019-01-02</td>\n      <td>20 Microns Ltd.</td>\n      <td>44.05</td>\n      <td>2020-03-23</td>\n      <td>2019-01-02</td>\n      <td>10792.50</td>\n      <td>-0.004530</td>\n      <td>-0.010838</td>\n    </tr>\n    <tr>\n      <th>2</th>\n      <td>2019-01-03</td>\n      <td>20 Microns Ltd.</td>\n      <td>43.45</td>\n      <td>2020-03-23</td>\n      <td>2019-01-03</td>\n      <td>10672.25</td>\n      <td>-0.013715</td>\n      <td>-0.011205</td>\n    </tr>\n    <tr>\n      <th>3</th>\n      <td>2019-01-04</td>\n      <td>20 Microns Ltd.</td>\n      <td>42.25</td>\n      <td>2020-03-23</td>\n      <td>2019-01-04</td>\n      <td>10727.35</td>\n      <td>-0.028006</td>\n      <td>0.005150</td>\n    </tr>\n    <tr>\n      <th>4</th>\n      <td>2019-01-07</td>\n      <td>20 Microns Ltd.</td>\n      <td>42.65</td>\n      <td>2020-03-23</td>\n      <td>2019-01-07</td>\n      <td>10771.80</td>\n      <td>0.009423</td>\n      <td>0.004135</td>\n    </tr>\n    <tr>\n      <th>...</th>\n      <td>...</td>\n      <td>...</td>\n      <td>...</td>\n      <td>...</td>\n      <td>...</td>\n      <td>...</td>\n      <td>...</td>\n      <td>...</td>\n    </tr>\n    <tr>\n      <th>667963</th>\n      <td>2020-12-24</td>\n      <td>Zydus Wellness Ltd.</td>\n      <td>1947.60</td>\n      <td>2020-03-23</td>\n      <td>NaT</td>\n      <td>NaN</td>\n      <td>0.022247</td>\n      <td>NaN</td>\n    </tr>\n    <tr>\n      <th>667964</th>\n      <td>2020-12-28</td>\n      <td>Zydus Wellness Ltd.</td>\n      <td>1927.90</td>\n      <td>2020-03-23</td>\n      <td>NaT</td>\n      <td>NaN</td>\n      <td>-0.010167</td>\n      <td>NaN</td>\n    </tr>\n    <tr>\n      <th>667965</th>\n      <td>2020-12-29</td>\n      <td>Zydus Wellness Ltd.</td>\n      <td>1981.85</td>\n      <td>2020-03-23</td>\n      <td>NaT</td>\n      <td>NaN</td>\n      <td>0.027599</td>\n      <td>NaN</td>\n    </tr>\n    <tr>\n      <th>667966</th>\n      <td>2020-12-30</td>\n      <td>Zydus Wellness Ltd.</td>\n      <td>1966.20</td>\n      <td>2020-03-23</td>\n      <td>NaT</td>\n      <td>NaN</td>\n      <td>-0.007928</td>\n      <td>NaN</td>\n    </tr>\n    <tr>\n      <th>667967</th>\n      <td>2020-12-31</td>\n      <td>Zydus Wellness Ltd.</td>\n      <td>1990.50</td>\n      <td>2020-03-23</td>\n      <td>NaT</td>\n      <td>NaN</td>\n      <td>0.012283</td>\n      <td>NaN</td>\n    </tr>\n  </tbody>\n</table>\n<p>667968 rows × 8 columns</p>\n</div>"
     },
     "execution_count": 9,
     "metadata": {},
     "output_type": "execute_result"
    }
   ],
   "source": [
    "df['stock_return'] = np.log(df.Stock_Price/df.Stock_Price.shift(1))\n",
    "df['market_return'] = np.log(df.Market_Price/df.Market_Price.shift(1))\n",
    "df"
   ]
  },
  {
   "cell_type": "code",
   "execution_count": 10,
   "metadata": {
    "pycharm": {
     "name": "#%%\n"
    }
   },
   "outputs": [
    {
     "data": {
      "text/plain": "Empty DataFrame\nColumns: [NSE Code, alpha, beta, rmse, abrret-220, abrret-219, abrret-218, abrret-217, abrret-216, abrret-215, abrret-214, abrret-213, abrret-212, abrret-211, abrret-210, abrret-209, abrret-208, abrret-207, abrret-206, abrret-205, abrret-204, abrret-203, abrret-202, abrret-201, abrret-200, abrret-199, abrret-198, abrret-197, abrret-196, abrret-195, abrret-194, abrret-193, abrret-192, abrret-191, abrret-190, abrret-189, abrret-188, abrret-187, abrret-186, abrret-185, abrret-184, abrret-183, abrret-182, abrret-181, abrret-180, abrret-179, abrret-178, abrret-177, abrret-176, abrret-175, abrret-174, abrret-173, abrret-172, abrret-171, abrret-170, abrret-169, abrret-168, abrret-167, abrret-166, abrret-165, abrret-164, abrret-163, abrret-162, abrret-161, abrret-160, abrret-159, abrret-158, abrret-157, abrret-156, abrret-155, abrret-154, abrret-153, abrret-152, abrret-151, abrret-150, abrret-149, abrret-148, abrret-147, abrret-146, abrret-145, abrret-144, abrret-143, abrret-142, abrret-141, abrret-140, abrret-139, abrret-138, abrret-137, abrret-136, abrret-135, abrret-134, abrret-133, abrret-132, abrret-131, abrret-130, abrret-129, abrret-128, abrret-127, abrret-126, abrret-125, ...]\nIndex: []\n\n[0 rows x 245 columns]",
      "text/html": "<div>\n<style scoped>\n    .dataframe tbody tr th:only-of-type {\n        vertical-align: middle;\n    }\n\n    .dataframe tbody tr th {\n        vertical-align: top;\n    }\n\n    .dataframe thead th {\n        text-align: right;\n    }\n</style>\n<table border=\"1\" class=\"dataframe\">\n  <thead>\n    <tr style=\"text-align: right;\">\n      <th></th>\n      <th>NSE Code</th>\n      <th>alpha</th>\n      <th>beta</th>\n      <th>rmse</th>\n      <th>abrret-220</th>\n      <th>abrret-219</th>\n      <th>abrret-218</th>\n      <th>abrret-217</th>\n      <th>abrret-216</th>\n      <th>abrret-215</th>\n      <th>...</th>\n      <th>abrret11</th>\n      <th>abrret12</th>\n      <th>abrret13</th>\n      <th>abrret14</th>\n      <th>abrret15</th>\n      <th>abrret16</th>\n      <th>abrret17</th>\n      <th>abrret18</th>\n      <th>abrret19</th>\n      <th>abrret20</th>\n    </tr>\n  </thead>\n  <tbody>\n  </tbody>\n</table>\n<p>0 rows × 245 columns</p>\n</div>"
     },
     "execution_count": 10,
     "metadata": {},
     "output_type": "execute_result"
    }
   ],
   "source": [
    "data = pd.DataFrame()\n",
    "event_window = 20 #Specify duration of event_window\n",
    "event_estimation = 200 # Specify duration of event estimation\n",
    "first_company = df['NSE Code'].iloc[0] # Name of the first company in datafile against which Market data is present\n",
    "# Creating a dataframe with desired columns\n",
    "ser = pd.Series( 'abrret'+ str(_) for _ in range(-(event_estimation+event_window),event_window+1, 1))\n",
    "result = pd.DataFrame(columns = ser)\n",
    "df6 = pd.DataFrame(columns = ['NSE Code', 'alpha','beta','rmse'])\n",
    "result = pd.concat([df6,result]) # result is an empty dataframe with NSE Code, alpha, beta, rmse and abnormal returns as its columns \n",
    "result"
   ]
  },
  {
   "cell_type": "code",
   "execution_count": null,
   "metadata": {
    "pycharm": {
     "name": "#%%\n",
     "is_executing": true
    }
   },
   "outputs": [],
   "source": [
    "# Main code starts here\n",
    "error = []\n",
    "for com in df['NSE Code'].unique():\n",
    "    df2 = df.loc[(df['NSE Code']) == com] # fetching all the data of a single company\n",
    "    frm = df2['Date of Announcement'].iloc[0] - BDay(event_window)#\n",
    "    to = df2['Date of Announcement'].iloc[0] + BDay(event_window)\n",
    "    df3 = df2.loc[(df2['Stock_Dates']<=frm)]\n",
    "    df4 = df.loc[(df['Market_Dates']<=frm) & (df['NSE Code'] == first_company)]\n",
    "    df7 = df.loc[(df['NSE Code'] == first_company)]\n",
    "    try:\n",
    "        reg = LinearRegression().fit(df4['market_return'].tail(event_estimation).values.reshape(-1, 1),df3['stock_return'].tail(event_estimation).values)\n",
    "        df2['normal_return'] = reg.coef_*df7['market_return'].values+reg.intercept_\n",
    "        df2['abnormal_return'] = df2['stock_return'] - df2['normal_return']\n",
    "        data = df2.loc[(df2['Stock_Dates']<=to)].tail(2*event_window + event_estimation+1)\n",
    "        le_n = data.shape[0]\n",
    "        a = data['abnormal_return']**2\n",
    "        rmse = ((a.sum())/le_n)**(1/2)\n",
    "        df5 = pd.DataFrame(data = [com, reg.intercept_,float(reg.coef_),rmse])\n",
    "        df5 = pd.concat([df5, data['abnormal_return']])\n",
    "        df5 = df5.T\n",
    "        df5.rename(columns=dict(zip(df5.columns, result.columns)), inplace=True)\n",
    "        result = pd.concat([result,df5])\n",
    "    except:\n",
    "        error.append(com)\n",
    "        continue\n",
    "print(\"Name of companies with incomplete/erroneous data\\n\", error)\n",
    "result.to_csv('abnormal_return_1D.csv',index = False)\n",
    "result"
   ]
  },
  {
   "cell_type": "code",
   "execution_count": 16,
   "metadata": {
    "pycharm": {
     "name": "#%%\n"
    }
   },
   "outputs": [
    {
     "data": {
      "text/plain": "array([-8.68981466e-03, -1.21144134e-02, -5.08799156e-03, -2.02828148e-03,\n       -1.16556737e-02,  6.60254296e-03, -5.81348924e-03,  8.93193708e-03,\n        1.32413111e-02,  3.62503863e-02, -1.01244208e-02,  2.45660549e-03,\n       -6.91177556e-03,  1.59187061e-02,  6.78621890e-03,  3.35380555e-04,\n       -5.68731475e-03,  7.12398527e-03, -1.93558989e-03,  1.38061902e-02,\n       -5.54953270e-03, -1.49088886e-02,  2.26866474e-03,  4.37517903e-03,\n        3.59172031e-03, -4.97659352e-03,  6.59103098e-04, -7.64621511e-03,\n       -1.28664984e-02,  1.65641965e-03, -4.27662036e-06,  1.19287906e-02,\n       -9.14004372e-03, -2.08762550e-03,  8.23971192e-03,  4.32245640e-03,\n       -5.06562101e-04, -4.46036355e-03,  6.48928801e-03,  3.76011446e-03,\n        5.41401488e-04,  2.51430141e-03, -1.14152743e-02, -2.16142519e-02,\n       -2.33619590e-04, -4.94475043e-03,  7.27849395e-03, -2.62800881e-03,\n        3.09841935e-03,  6.38685752e-03,  2.13275399e-03, -7.78207360e-03,\n       -1.54372932e-02, -6.41764171e-03, -1.33614104e-03, -5.28707317e-03,\n       -1.70045039e-03,  2.85315760e-03, -8.46335174e-03, -9.32010015e-03,\n        2.93648931e-03, -1.24899804e-02,  1.57889860e-03, -1.23286382e-02,\n        7.85392961e-03, -8.50776215e-03,  1.61690661e-02,  6.97316992e-03,\n       -1.66825588e-02,  9.43289353e-03,  1.66687843e-03,  5.51993752e-04,\n       -3.34377251e-03, -8.96261875e-03, -1.63761361e-02,  8.15926124e-03,\n        2.08805422e-02,  4.28639120e-03, -5.34954970e-03, -8.89323142e-03,\n        6.82248551e-03, -2.06550078e-02,  4.32020004e-03,  2.99642045e-04,\n        9.02085120e-03,  5.18014302e-03,  2.96296513e-03, -4.80505954e-03,\n        8.44116406e-03, -6.55817273e-03, -1.70389667e-02,  2.12851996e-03,\n       -1.26107183e-02,  5.18246904e-02,  2.85054099e-02, -1.03500035e-03,\n       -1.28538707e-02,  1.13857840e-02, -5.09453700e-03, -3.30189082e-03,\n       -1.00332141e-02, -4.04871352e-03, -1.23841280e-02, -4.33610605e-03,\n        1.66583619e-02, -6.98517333e-03,  6.25567711e-03,  3.18817555e-03,\n        7.65503124e-03,  3.11895519e-03,  1.06159906e-02,  6.49514934e-03,\n       -6.32254732e-03,  1.35820083e-03, -1.85451195e-03,  1.12231023e-04,\n        3.72667760e-03,  1.36416227e-02,  4.84535002e-03,  2.81179113e-03,\n        1.10652757e-03,  4.25480776e-03, -2.02024504e-03,  4.09073875e-03,\n        3.83683915e-03, -8.68727297e-03,  4.44974316e-04, -6.14637847e-03,\n        2.66947408e-03,  1.96486449e-03, -9.20943970e-04,  4.66745305e-03,\n        4.92916384e-03, -2.56180384e-03, -4.52209054e-03,  1.32859219e-02,\n       -2.99028278e-03,  5.21991044e-03,  4.16051334e-03, -7.85720689e-03,\n       -6.51337443e-04, -4.49207157e-03,  4.07698569e-03, -2.06137653e-03,\n       -8.09531612e-03,  1.34121316e-03, -6.78316315e-03,  4.48943509e-03,\n        5.16290646e-03,  9.55179031e-03, -2.71326746e-03,  9.17056918e-03,\n        4.64599294e-03,  3.10849121e-03,  9.86486842e-04, -7.37735187e-04,\n       -3.93834796e-03, -7.23060038e-03,  9.78575735e-03,  8.20352961e-04,\n       -7.15683750e-03,  1.15395921e-03,  8.15056403e-03, -4.53306419e-03,\n       -1.92906802e-02,  4.98212791e-03, -2.29252166e-03,  1.57214603e-02,\n        3.34250312e-03,  5.91793514e-03,  2.65269870e-03, -1.53811312e-03,\n        9.87902327e-04, -2.54979694e-04, -1.04001035e-02, -4.48464333e-03,\n       -5.18604353e-03,  6.04845949e-03,  5.55907214e-03, -1.06086007e-02,\n       -5.22859705e-03,  6.09463005e-03, -7.75496018e-03, -6.14222342e-03,\n       -2.54204880e-02,  3.94099720e-03,  2.29455493e-02,  9.09897922e-03,\n        4.02855199e-03, -3.26782844e-03, -5.54086918e-03,  6.32992163e-03,\n        7.67617543e-03, -2.17838644e-03, -5.03951561e-03, -5.60035405e-03,\n       -4.43459707e-03,  1.10622065e-02, -3.72210660e-03, -2.10335961e-02])"
     },
     "execution_count": 16,
     "metadata": {},
     "output_type": "execute_result"
    }
   ],
   "source": [
    "(df4['market_return'].tail(event_estimation).values)"
   ]
  },
  {
   "cell_type": "code",
   "execution_count": 17,
   "metadata": {
    "pycharm": {
     "name": "#%%\n"
    }
   },
   "outputs": [
    {
     "data": {
      "text/plain": "array([ 0.02597549, -0.02597549,  0.        , -0.02666825,  0.02666825,\n        0.        , -0.02666825,  0.02666825, -0.02666825, -0.02739897,\n        0.02739897,  0.        , -0.02739897,  0.02739897, -0.02739897,\n        0.02739897, -0.02739897,  0.02739897, -0.02739897, -0.02817088,\n        0.        ,  0.        , -0.02898754, -0.02985296, -0.03077166,\n       -0.0317487 , -0.03278982, -0.03390155, -0.03509132, -0.03636764,\n       -0.03774033, -0.03922071, -0.04082199,  0.        ,  0.        ,\n        0.04082199, -0.04082199, -0.04255961,  0.04255961, -0.04255961,\n        0.04255961, -0.04255961, -0.04445176,  0.04445176,  0.04255961,\n        0.        , -0.04255961, -0.04445176,  0.04445176,  0.        ,\n        0.04255961, -0.04255961, -0.04445176,  0.        ,  0.04445176,\n        0.        ,  0.        ,  0.        ,  0.        , -0.04445176,\n       -0.04652002,  0.04652002,  0.        ,  0.04445176, -0.04445176,\n        0.        , -0.04652002,  0.04652002,  0.04445176,  0.        ,\n              -inf,         inf, -0.04652002, -0.04879016,  0.04879016,\n        0.04652002,  0.04445176, -0.04445176, -0.04652002,  0.        ,\n              -inf,         inf,  0.        , -0.05129329,  0.05129329,\n        0.04879016, -0.04879016,  0.04879016,  0.        ,  0.        ,\n        0.        ,  0.        ,  0.        ,  0.        ,  0.        ,\n        0.        , -0.04879016,  0.        ,  0.        ,  0.        ,\n        0.04879016, -0.04879016, -0.05129329, -0.05406722,  0.        ,\n       -0.05715841, -0.06062462,  0.        ,  0.        , -0.06453852,\n        0.06453852,  0.06062462,  0.        , -0.06062462, -0.06453852,\n        0.06453852,  0.        , -0.06453852,  0.        ,  0.06453852,\n       -0.06453852,  0.06453852,  0.06062462,  0.        ,  0.        ,\n        0.        ,  0.        , -0.06062462,  0.        ,        -inf,\n               inf,  0.        ,  0.05715841,  0.        ,  0.        ,\n        0.        ,  0.05406722, -0.05406722,  0.        , -0.05715841,\n       -0.06062462,  0.        , -0.06453852,  0.        ,  0.06453852,\n        0.        , -0.06453852, -0.06899287,  0.        , -0.07410797,\n        0.07410797,  0.06899287,  0.        ,  0.        ,  0.06453852,\n       -0.06453852,  0.        ,  0.        ,  0.06453852,  0.06062462,\n        0.        ,  0.        ,  0.05715841,  0.05406722,  0.05129329,\n        0.04879016,  0.04652002,  0.04445176,  0.04255961,  0.04082199,\n        0.03922071,  0.03774033,  0.03636764,  0.03509132,  0.03390155,\n        0.03278982,  0.0317487 ,  0.        ,  0.        ,  0.03077166,\n        0.02985296,  0.02898754,  0.02817088, -0.02817088, -0.02898754,\n       -0.02985296, -0.03077166, -0.0317487 , -0.03278982, -0.03390155,\n       -0.03509132, -0.03636764, -0.03774033, -0.03922071, -0.04082199,\n       -0.04255961, -0.04445176, -0.04652002, -0.04879016, -0.05129329])"
     },
     "execution_count": 17,
     "metadata": {},
     "output_type": "execute_result"
    }
   ],
   "source": [
    "(df3['stock_return'].tail(event_estimation).values)"
   ]
  },
  {
   "cell_type": "code",
   "execution_count": null,
   "metadata": {
    "pycharm": {
     "name": "#%%\n"
    }
   },
   "outputs": [],
   "source": []
  }
 ],
 "metadata": {
  "kernelspec": {
   "display_name": "Python 3 (ipykernel)",
   "language": "python",
   "name": "python3"
  },
  "language_info": {
   "codemirror_mode": {
    "name": "ipython",
    "version": 3
   },
   "file_extension": ".py",
   "mimetype": "text/x-python",
   "name": "python",
   "nbconvert_exporter": "python",
   "pygments_lexer": "ipython3",
   "version": "3.8.10"
  }
 },
 "nbformat": 4,
 "nbformat_minor": 4
}